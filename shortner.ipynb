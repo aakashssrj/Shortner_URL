{
 "cells": [
  {
   "cell_type": "code",
   "execution_count": 2,
   "id": "ad5d1860-baaa-4fc4-b9af-dc34dbe01b99",
   "metadata": {},
   "outputs": [
    {
     "name": "stdout",
     "output_type": "stream",
     "text": [
      "Collecting pyshorteners\n",
      "  Downloading pyshorteners-1.0.1.tar.gz (10.0 kB)\n",
      "  Preparing metadata (setup.py): started\n",
      "  Preparing metadata (setup.py): finished with status 'done'\n",
      "Requirement already satisfied: requests in c:\\users\\ramu sah\\appdata\\local\\programs\\python\\python38\\lib\\site-packages (from pyshorteners) (2.31.0)\n",
      "Requirement already satisfied: charset-normalizer<4,>=2 in c:\\users\\ramu sah\\appdata\\local\\programs\\python\\python38\\lib\\site-packages (from requests->pyshorteners) (3.3.2)\n",
      "Requirement already satisfied: idna<4,>=2.5 in c:\\users\\ramu sah\\appdata\\local\\programs\\python\\python38\\lib\\site-packages (from requests->pyshorteners) (3.6)\n",
      "Requirement already satisfied: urllib3<3,>=1.21.1 in c:\\users\\ramu sah\\appdata\\local\\programs\\python\\python38\\lib\\site-packages (from requests->pyshorteners) (2.2.1)\n",
      "Requirement already satisfied: certifi>=2017.4.17 in c:\\users\\ramu sah\\appdata\\local\\programs\\python\\python38\\lib\\site-packages (from requests->pyshorteners) (2019.6.16)\n",
      "Building wheels for collected packages: pyshorteners\n",
      "  Building wheel for pyshorteners (setup.py): started\n",
      "  Building wheel for pyshorteners (setup.py): finished with status 'done'\n",
      "  Created wheel for pyshorteners: filename=pyshorteners-1.0.1-py3-none-any.whl size=17516 sha256=c9679aea3c2d3a2ef70ffc09b7a96b2ae7a9322560472418080a9f8169221b89\n",
      "  Stored in directory: c:\\users\\ramu sah\\appdata\\local\\pip\\cache\\wheels\\0f\\6e\\88\\f0c854fa281b13d4997e9068dd69201e51c4b051c52c30b48d\n",
      "Successfully built pyshorteners\n",
      "Installing collected packages: pyshorteners\n",
      "Successfully installed pyshorteners-1.0.1\n",
      "Note: you may need to restart the kernel to use updated packages.\n"
     ]
    }
   ],
   "source": [
    "pip install pyshorteners"
   ]
  },
  {
   "cell_type": "code",
   "execution_count": 3,
   "id": "f3923429-da5f-4a48-b15a-c02532227742",
   "metadata": {},
   "outputs": [
    {
     "name": "stdout",
     "output_type": "stream",
     "text": [
      "Requirement already satisfied: pyperclip in c:\\users\\ramu sah\\appdata\\local\\programs\\python\\python38\\lib\\site-packages (1.8.2)Note: you may need to restart the kernel to use updated packages.\n",
      "\n"
     ]
    }
   ],
   "source": [
    "pip install pyperclip\n"
   ]
  },
  {
   "cell_type": "code",
   "execution_count": 1,
   "id": "1b7fba57-ca53-4b8f-a75b-31c6a6ad9d02",
   "metadata": {},
   "outputs": [
    {
     "name": "stdin",
     "output_type": "stream",
     "text": [
      "Enter the url:  https://www.javatpoint.com/theory-of-automata\n"
     ]
    },
    {
     "name": "stdout",
     "output_type": "stream",
     "text": [
      "https://tinyurl.com/23avsfb6\n"
     ]
    }
   ],
   "source": [
    "\n",
    "\n",
    "import pyshorteners\n",
    "\n",
    "url = input('Enter the url: ')\n",
    "\n",
    "\n",
    "def shortenurl(url):\n",
    "    s = pyshorteners.Shortener()\n",
    "    print(s.tinyurl.short(url))\n",
    "\n",
    "shortenurl(url)"
   ]
  },
  {
   "cell_type": "code",
   "execution_count": null,
   "id": "9501c2b9-e41f-4a5e-a5b1-b85fbc1b0852",
   "metadata": {},
   "outputs": [],
   "source": [
    "T"
   ]
  }
 ],
 "metadata": {
  "kernelspec": {
   "display_name": "Python 3 (ipykernel)",
   "language": "python",
   "name": "python3"
  },
  "language_info": {
   "codemirror_mode": {
    "name": "ipython",
    "version": 3
   },
   "file_extension": ".py",
   "mimetype": "text/x-python",
   "name": "python",
   "nbconvert_exporter": "python",
   "pygments_lexer": "ipython3",
   "version": "3.8.6"
  }
 },
 "nbformat": 4,
 "nbformat_minor": 5
}
